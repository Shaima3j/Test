{
  "metadata": {
    "kernelspec": {
      "name": "python",
      "display_name": "Python (Pyodide)",
      "language": "python"
    },
    "language_info": {
      "name": ""
    }
  },
  "nbformat_minor": 4,
  "nbformat": 4,
  "cells": [
    {
      "cell_type": "markdown",
      "source": "## Title:\nThis is for BMI course",
      "metadata": {}
    },
    {
      "cell_type": "markdown",
      "source": "## Intro:\nThis is intro for the course exsersise. ",
      "metadata": {}
    },
    {
      "cell_type": "markdown",
      "source": "## Data science languages:\n1. Python\n2. R \n3. SQL\n4. Java \n5. Julia \n6. Scala \n7. #C/C++ \n8. JavaScript",
      "metadata": {}
    },
    {
      "cell_type": "markdown",
      "source": "## Data science libraries:\nTensorFlow, SciPy, NumPy, Pandas, Matplotlib, Keras",
      "metadata": {}
    },
    {
      "cell_type": "markdown",
      "source": "## Table of Data Science tools\n| Tools |\n| --- | \n| R |\n| SAS |\n| Python |\n| Tableau |",
      "metadata": {}
    },
    {
      "cell_type": "markdown",
      "source": "## Arithmetic expression examples:\n$\\hat{Y} = \\hat{\\beta}_{0} + \\sum \\limits _{j=1} ^{p} X_{j}\\hat{\\beta}_{j} $\n",
      "metadata": {}
    },
    {
      "cell_type": "code",
      "source": "num1 = 15\nnum2 = 12\n\nsum = num1 + num2\n\nprint(\"Sum of\", num1, \"and\", num2 , \"is\", sum)",
      "metadata": {
        "trusted": true
      },
      "outputs": [],
      "execution_count": null
    },
    {
      "cell_type": "code",
      "source": "num1 = 15\nnum2 = 12\n\nmult = num1 * num2\n\nprint(\"Multiplication of\", num1, \"and\", num2 , \"is\", mult)",
      "metadata": {
        "trusted": true
      },
      "outputs": [],
      "execution_count": null
    },
    {
      "cell_type": "code",
      "source": "min=int(input(\"Enter time in minutes\"))\nh=min//60\nm=min%60\nprint(\"Hours=\",h)\nprint(\"Minutes=\",m)",
      "metadata": {
        "trusted": true
      },
      "outputs": [],
      "execution_count": null
    },
    {
      "cell_type": "markdown",
      "source": "## list of Objectives\nA.\nB.\nC.",
      "metadata": {}
    },
    {
      "cell_type": "markdown",
      "source": "## Author:\nShaima",
      "metadata": {}
    },
    {
      "cell_type": "code",
      "source": "",
      "metadata": {
        "trusted": true
      },
      "outputs": [],
      "execution_count": null
    }
  ]
}